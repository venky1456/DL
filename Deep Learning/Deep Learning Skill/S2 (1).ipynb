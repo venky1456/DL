{
  "nbformat": 4,
  "nbformat_minor": 0,
  "metadata": {
    "colab": {
      "provenance": []
    },
    "kernelspec": {
      "name": "python3",
      "display_name": "Python 3"
    },
    "language_info": {
      "name": "python"
    }
  },
  "cells": [
    {
      "cell_type": "markdown",
      "source": [
        "Compare the configurations of various Perceptron models for real world problems\n"
      ],
      "metadata": {
        "id": "3CQLxd4LD5jj"
      }
    },
    {
      "cell_type": "markdown",
      "source": [
        "implement a simple Perceptron model using PyTorch, applied to the Digits dataset for a classification task. Here's a breakdown of the different sections:\n",
        "\n",
        "1. Importing Libraries\n",
        "The necessary libraries are imported for building and training neural networks (PyTorch), numerical operations (NumPy), dataset handling (Scikit-Learn), and plotting (Matplotlib).\n",
        "\n",
        "2. Loading the Dataset\n",
        "The Digits dataset, which consists of images of digits, is loaded. The feature data (X) contains the images represented as arrays, and the target labels (y) contain the digit classes (0-9).\n",
        "\n",
        "3. Train-Test Split and Standardization\n",
        "The dataset is split into training and test sets. The features are then standardized to have zero mean and unit variance to aid in the neural network's convergence.\n",
        "\n",
        "4. Converting Data to PyTorch Tensors\n",
        "The data, originally in NumPy array format, is converted into PyTorch tensors, which are necessary for training with PyTorch.\n",
        "\n",
        "5. Defining the Perceptron Model\n",
        "A simple Perceptron model is defined, consisting of a single linear layer (fully connected layer) that maps the input features directly to the output classes. The model has an input size matching the number of features and an output size matching the number of classes.\n",
        "\n",
        "6. Initializing the Model, Loss Function, and Optimizer\n",
        "The Perceptron model is instantiated, using CrossEntropyLoss as the loss function for the multi-class classification task. The Adam optimizer is used to update the model parameters.\n",
        "\n",
        "7. Training the Model\n",
        "The model is trained over several epochs. In each epoch, the optimizer's gradients are reset, the model makes predictions on the training data, and the loss is computed. The loss is then backpropagated, and the optimizer updates the model parameters. The training loss for each epoch is recorded.\n",
        "\n",
        "8. Testing the Model\n",
        "The model is evaluated on the test data. In evaluation mode, gradient computation is disabled to save memory. The model's predictions on the test set are compared with the true labels to compute the accuracy.\n",
        "\n",
        "9. Plotting the Training Loss and Displaying Accuracy\n",
        "Finally, the training loss over the epochs is plotted, and the test accuracy is printed. This visualizes how well the model is learning and provides a measure of its performance on unseen data."
      ],
      "metadata": {
        "id": "McIizQmjFHyp"
      }
    },
    {
      "cell_type": "code",
      "execution_count": 2,
      "metadata": {
        "colab": {
          "base_uri": "https://localhost:8080/",
          "height": 489
        },
        "id": "x4iSW_FNDkiG",
        "outputId": "7279907b-9795-41e8-cfcf-d7306c7a77c7"
      },
      "outputs": [
        {
          "output_type": "display_data",
          "data": {
            "text/plain": [
              "<Figure size 640x480 with 1 Axes>"
            ],
            "image/png": "[encoded data removed]"
          },
          "metadata": {}
        },
        {
          "output_type": "stream",
          "name": "stdout",
          "text": [
            "Test Accuracy: 0.9425925925925925\n"
          ]
        }
      ],
      "source": [
        "import torch\n",
        "import torch.nn as nn\n",
        "import torch.optim as optim\n",
        "import numpy as np\n",
        "from sklearn.datasets import load_digits\n",
        "from sklearn.model_selection import train_test_split\n",
        "from sklearn.preprocessing import StandardScaler\n",
        "from sklearn.metrics import accuracy_score\n",
        "import matplotlib.pyplot as plt\n",
        "\n",
        "# Load a simple dataset (Digits dataset)\n",
        "digits = load_digits()\n",
        "X = digits.data\n",
        "y = digits.target\n",
        "\n",
        "# Train-test split\n",
        "X_train, X_test, y_train, y_test = train_test_split(X, y, test_size=0.3, random_state=42)\n",
        "\n",
        "# Standardize the features\n",
        "scaler = StandardScaler()\n",
        "X_train = scaler.fit_transform(X_train)\n",
        "X_test = scaler.transform(X_test)\n",
        "\n",
        "# Convert data to PyTorch tensors\n",
        "X_train_tensor = torch.tensor(X_train, dtype=torch.float32)\n",
        "X_test_tensor = torch.tensor(X_test, dtype=torch.float32)\n",
        "y_train_tensor = torch.tensor(y_train, dtype=torch.long)\n",
        "y_test_tensor = torch.tensor(y_test, dtype=torch.long)\n",
        "\n",
        "# Define the Perceptron model\n",
        "class SimplePerceptron(nn.Module):\n",
        "    def __init__(self, input_size, output_size):\n",
        "        super(SimplePerceptron, self).__init__()\n",
        "        self.fc = nn.Linear(input_size, output_size)\n",
        "\n",
        "    def forward(self, x):\n",
        "        return self.fc(x)\n",
        "\n",
        "# Initialize the model\n",
        "input_size = X_train.shape[1]\n",
        "output_size = len(np.unique(y))\n",
        "model = SimplePerceptron(input_size, output_size)\n",
        "\n",
        "# Loss and optimizer\n",
        "criterion = nn.CrossEntropyLoss()\n",
        "optimizer = optim.Adam(model.parameters(), lr=0.01)\n",
        "\n",
        "# Training the model\n",
        "num_epochs = 50\n",
        "train_losses = []\n",
        "\n",
        "for epoch in range(num_epochs):\n",
        "    optimizer.zero_grad()\n",
        "    outputs = model(X_train_tensor)\n",
        "    loss = criterion(outputs, y_train_tensor)\n",
        "    loss.backward()\n",
        "    optimizer.step()\n",
        "    train_losses.append(loss.item())\n",
        "\n",
        "# Testing the model\n",
        "model.eval()\n",
        "with torch.no_grad():\n",
        "    test_outputs = model(X_test_tensor)\n",
        "    _, predicted = torch.max(test_outputs.data, 1)\n",
        "    accuracy = accuracy_score(y_test_tensor, predicted)\n",
        "\n",
        "# Plot the training loss\n",
        "plt.plot(train_losses)\n",
        "plt.title('Training Loss')\n",
        "plt.xlabel('Epoch')\n",
        "plt.ylabel('Loss')\n",
        "plt.show()\n",
        "\n",
        "print(f\"Test Accuracy: {accuracy}\")\n"
      ]
    },
    {
      "cell_type": "markdown",
      "source": [
        "PyTorch tensors are a fundamental data structure used in PyTorch, which is a popular deep learning framework. They are similar to NumPy arrays but come with additional capabilities that make them particularly suitable for deep learning and neural network computations.\n",
        "\n",
        "Key Features of PyTorch Tensors:\n",
        "Multidimensional Arrays:\n",
        "PyTorch tensors can represent data in multiple dimensions, just like NumPy arrays. This means they can store scalars (0D), vectors (1D), matrices (2D), and higher-dimensional data (e.g., 3D, 4D tensors).\n",
        "\n",
        "Efficient Computations:\n",
        "Tensors are optimized for efficient mathematical operations. PyTorch provides a wide range of operations on tensors, including element-wise operations, reductions (like sum, mean), matrix multiplications, and more.\n",
        "\n",
        "Automatic Differentiation:\n",
        "One of the most powerful features of PyTorch tensors is their integration with PyTorch's automatic differentiation library called Autograd. This feature enables automatic calculation of gradients, which is essential for training neural networks using gradient descent. When you set requires_grad=True for a tensor, PyTorch tracks all operations on it, allowing you to compute gradients for optimization.\n",
        "\n",
        "GPU Acceleration:\n",
        "PyTorch tensors can be moved to and processed on GPUs, which significantly accelerates computations. This is particularly useful for deep learning tasks, where large amounts of data and complex models can benefit from parallel processing capabilities of GPUs.\n",
        "\n",
        "Interoperability with NumPy:\n",
        "PyTorch tensors can be easily converted to and from NumPy arrays. This allows seamless integration with other data processing tools and libraries that use NumPy arrays.\n",
        "\n",
        "Support for Complex Numbers:\n",
        "PyTorch also supports complex number tensors, which can be useful in various scientific and engineering applications.\n"
      ],
      "metadata": {
        "id": "dI5uJNZTFgdF"
      }
    },
    {
      "cell_type": "markdown",
      "source": [
        "PyTorch Tensors\n",
        "Data Structure: Tensors are a data structure used to store and manipulate data. They can hold input data, weights, biases, activations, and gradients, among other things.\n",
        "General Use: Tensors are versatile and can be used for any kind of numerical computation, not just in neural networks. They support a wide range of operations and can be moved between CPUs and GPUs for efficient computation.\n",
        "Hidden Layers\n",
        "Neural Network Component: Hidden layers are specific components of a neural network. They are layers that exist between the input layer (which receives the raw data) and the output layer (which produces the final predictions).\n",
        "Function: Hidden layers contain neurons (or units) that transform the input data into intermediate representations using a series of weighted sums and activation functions. The purpose of these layers is to enable the network to learn complex patterns and features from the data.\n",
        "Structure: Each hidden layer is characterized by its number of neurons and the activation function applied to its outputs. The weights and biases in these layers are typically learned during the training process using algorithms like backpropagation.\n",
        "Relationship Between Tensors and Hidden Layers\n",
        "Tensors in Hidden Layers: The parameters (weights and biases) of a neural network's hidden layers are typically represented as tensors. For example, a weight matrix connecting two layers in a fully connected neural network would be a tensor.\n",
        "Activation Tensors: The outputs of each hidden layer (the activations) are also represented as tensors. These tensors hold the data that flows through the network during both the forward and backward passes."
      ],
      "metadata": {
        "id": "Rh8q68U9FysR"
      }
    }
  ]
}